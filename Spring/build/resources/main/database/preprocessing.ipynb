{
 "cells": [
  {
   "cell_type": "code",
   "execution_count": 4,
   "metadata": {},
   "outputs": [],
   "source": [
    "import sqlite3\n",
    "import csv\n",
    "import pandas as pd"
   ]
  },
  {
   "cell_type": "code",
   "execution_count": 2,
   "metadata": {},
   "outputs": [],
   "source": [
    "# SQLite 데이터베이스 연결\n",
    "conn = sqlite3.connect('em.db')\n",
    "cursor = conn.cursor()"
   ]
  },
  {
   "cell_type": "code",
   "execution_count": 5,
   "metadata": {},
   "outputs": [
    {
     "data": {
      "text/plain": [
       "Index(['id', 'address', 'emergency_medical_institution_type', 'hospital_name',\n",
       "       'latitude', 'longitude', 'phone_number1', 'phone_number3', 'region'],\n",
       "      dtype='object')"
      ]
     },
     "execution_count": 5,
     "metadata": {},
     "output_type": "execute_result"
    }
   ],
   "source": [
    "data = pd.read_csv(\"data.csv\")\n",
    "data.columns"
   ]
  },
  {
   "cell_type": "code",
   "execution_count": null,
   "metadata": {},
   "outputs": [],
   "source": [
    "# CSV 파일 경로\n",
    "csv_file = 'data.csv'\n",
    "\n",
    "# CSV 파일 열기\n",
    "with open(csv_file, mode='r', encoding='utf-8') as file:\n",
    "    csv_reader = csv.reader(file)\n",
    "    \n",
    "    # 헤더를 건너뛰고 데이터만 처리\n",
    "    next(csv_reader)  # 첫 번째 줄은 헤더이므로 건너뜀\n",
    "    \n",
    "    # 각 행을 테이블에 삽입\n",
    "    for row in csv_reader:\n",
    "        cursor.execute('''\n",
    "            INSERT INTO emergency (id, address, emergency_medical_institution_type, hospital_name,\n",
    "            latitude, longitude, phone_number1, phone_number3, region) \n",
    "            VALUES (?, ?, ?, ?, ?, ?, ?, ?, ?)\n",
    "        ''', row)  # row의 각 요소가 순서대로 들어갑니다.\n",
    "\n",
    "# 변경 사항 저장\n",
    "conn.commit()\n"
   ]
  },
  {
   "cell_type": "code",
   "execution_count": null,
   "metadata": {},
   "outputs": [],
   "source": [
    "conn.close()"
   ]
  }
 ],
 "metadata": {
  "kernelspec": {
   "display_name": "em",
   "language": "python",
   "name": "python3"
  },
  "language_info": {
   "codemirror_mode": {
    "name": "ipython",
    "version": 3
   },
   "file_extension": ".py",
   "mimetype": "text/x-python",
   "name": "python",
   "nbconvert_exporter": "python",
   "pygments_lexer": "ipython3",
   "version": "3.12.8"
  }
 },
 "nbformat": 4,
 "nbformat_minor": 2
}
